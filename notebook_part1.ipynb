{
 "cells": [
  {
   "cell_type": "code",
   "execution_count": 1,
   "metadata": {
    "collapsed": true
   },
   "outputs": [],
   "source": [
    "vals = [ '2' , '3' , '4' , '5' , '6' , '7' , '8' , '9' , '10' , 'jack' , 'queen' , 'king' , 'ace' ]\n",
    "suits = [ 'spades' , 'clubs' , 'hearts' , 'diamonds' ]"
   ]
  },
  {
   "cell_type": "markdown",
   "metadata": {},
   "source": [
    "### Q1 - Write a single expression that includes lambda, zip, and map functions to select create 52 cards in a deck - 50 pts"
   ]
  },
  {
   "cell_type": "code",
   "execution_count": 2,
   "metadata": {},
   "outputs": [
    {
     "data": {
      "text/plain": [
       "[('2', 'clubs'),\n",
       " ('3', 'clubs'),\n",
       " ('4', 'clubs'),\n",
       " ('5', 'clubs'),\n",
       " ('6', 'clubs'),\n",
       " ('7', 'clubs'),\n",
       " ('8', 'clubs'),\n",
       " ('9', 'clubs'),\n",
       " ('10', 'clubs'),\n",
       " ('jack', 'clubs'),\n",
       " ('queen', 'clubs'),\n",
       " ('king', 'clubs'),\n",
       " ('ace', 'clubs'),\n",
       " ('2', 'diamonds'),\n",
       " ('3', 'diamonds'),\n",
       " ('4', 'diamonds'),\n",
       " ('5', 'diamonds'),\n",
       " ('6', 'diamonds'),\n",
       " ('7', 'diamonds'),\n",
       " ('8', 'diamonds'),\n",
       " ('9', 'diamonds'),\n",
       " ('10', 'diamonds'),\n",
       " ('jack', 'diamonds'),\n",
       " ('queen', 'diamonds'),\n",
       " ('king', 'diamonds'),\n",
       " ('ace', 'diamonds'),\n",
       " ('2', 'hearts'),\n",
       " ('3', 'hearts'),\n",
       " ('4', 'hearts'),\n",
       " ('5', 'hearts'),\n",
       " ('6', 'hearts'),\n",
       " ('7', 'hearts'),\n",
       " ('8', 'hearts'),\n",
       " ('9', 'hearts'),\n",
       " ('10', 'hearts'),\n",
       " ('jack', 'hearts'),\n",
       " ('queen', 'hearts'),\n",
       " ('king', 'hearts'),\n",
       " ('ace', 'hearts'),\n",
       " ('2', 'spades'),\n",
       " ('3', 'spades'),\n",
       " ('4', 'spades'),\n",
       " ('5', 'spades'),\n",
       " ('6', 'spades'),\n",
       " ('7', 'spades'),\n",
       " ('8', 'spades'),\n",
       " ('9', 'spades'),\n",
       " ('10', 'spades'),\n",
       " ('jack', 'spades'),\n",
       " ('queen', 'spades'),\n",
       " ('king', 'spades'),\n",
       " ('ace', 'spades')]"
      ]
     },
     "execution_count": 2,
     "metadata": {},
     "output_type": "execute_result"
    }
   ],
   "source": [
    "# Using ZIP\n",
    "\n",
    "list(zip(vals*4, sorted(suits*13)))"
   ]
  },
  {
   "cell_type": "code",
   "execution_count": 3,
   "metadata": {},
   "outputs": [
    {
     "data": {
      "text/plain": [
       "[('clubs', '2'),\n",
       " ('clubs', '3'),\n",
       " ('clubs', '4'),\n",
       " ('clubs', '5'),\n",
       " ('clubs', '6'),\n",
       " ('clubs', '7'),\n",
       " ('clubs', '8'),\n",
       " ('clubs', '9'),\n",
       " ('clubs', '10'),\n",
       " ('clubs', 'jack'),\n",
       " ('clubs', 'queen'),\n",
       " ('clubs', 'king'),\n",
       " ('clubs', 'ace'),\n",
       " ('diamonds', '2'),\n",
       " ('diamonds', '3'),\n",
       " ('diamonds', '4'),\n",
       " ('diamonds', '5'),\n",
       " ('diamonds', '6'),\n",
       " ('diamonds', '7'),\n",
       " ('diamonds', '8'),\n",
       " ('diamonds', '9'),\n",
       " ('diamonds', '10'),\n",
       " ('diamonds', 'jack'),\n",
       " ('diamonds', 'queen'),\n",
       " ('diamonds', 'king'),\n",
       " ('diamonds', 'ace'),\n",
       " ('hearts', '2'),\n",
       " ('hearts', '3'),\n",
       " ('hearts', '4'),\n",
       " ('hearts', '5'),\n",
       " ('hearts', '6'),\n",
       " ('hearts', '7'),\n",
       " ('hearts', '8'),\n",
       " ('hearts', '9'),\n",
       " ('hearts', '10'),\n",
       " ('hearts', 'jack'),\n",
       " ('hearts', 'queen'),\n",
       " ('hearts', 'king'),\n",
       " ('hearts', 'ace'),\n",
       " ('spades', '2'),\n",
       " ('spades', '3'),\n",
       " ('spades', '4'),\n",
       " ('spades', '5'),\n",
       " ('spades', '6'),\n",
       " ('spades', '7'),\n",
       " ('spades', '8'),\n",
       " ('spades', '9'),\n",
       " ('spades', '10'),\n",
       " ('spades', 'jack'),\n",
       " ('spades', 'queen'),\n",
       " ('spades', 'king'),\n",
       " ('spades', 'ace')]"
      ]
     },
     "execution_count": 3,
     "metadata": {},
     "output_type": "execute_result"
    }
   ],
   "source": [
    "# using MAP & LAMBDA\n",
    "\n",
    "list (map(lambda x,y: (x,y), sorted([x for x in suits]*13), [y for y in vals]*4  ))"
   ]
  },
  {
   "cell_type": "code",
   "execution_count": 4,
   "metadata": {},
   "outputs": [
    {
     "data": {
      "text/plain": [
       "[('spades', '2'),\n",
       " ('spades', '3'),\n",
       " ('spades', '4'),\n",
       " ('spades', '5'),\n",
       " ('spades', '6'),\n",
       " ('spades', '7'),\n",
       " ('spades', '8'),\n",
       " ('spades', '9'),\n",
       " ('spades', '10'),\n",
       " ('spades', 'jack'),\n",
       " ('spades', 'queen'),\n",
       " ('spades', 'king'),\n",
       " ('spades', 'ace'),\n",
       " ('clubs', '2'),\n",
       " ('clubs', '3'),\n",
       " ('clubs', '4'),\n",
       " ('clubs', '5'),\n",
       " ('clubs', '6'),\n",
       " ('clubs', '7'),\n",
       " ('clubs', '8'),\n",
       " ('clubs', '9'),\n",
       " ('clubs', '10'),\n",
       " ('clubs', 'jack'),\n",
       " ('clubs', 'queen'),\n",
       " ('clubs', 'king'),\n",
       " ('clubs', 'ace'),\n",
       " ('hearts', '2'),\n",
       " ('hearts', '3'),\n",
       " ('hearts', '4'),\n",
       " ('hearts', '5'),\n",
       " ('hearts', '6'),\n",
       " ('hearts', '7'),\n",
       " ('hearts', '8'),\n",
       " ('hearts', '9'),\n",
       " ('hearts', '10'),\n",
       " ('hearts', 'jack'),\n",
       " ('hearts', 'queen'),\n",
       " ('hearts', 'king'),\n",
       " ('hearts', 'ace'),\n",
       " ('diamonds', '2'),\n",
       " ('diamonds', '3'),\n",
       " ('diamonds', '4'),\n",
       " ('diamonds', '5'),\n",
       " ('diamonds', '6'),\n",
       " ('diamonds', '7'),\n",
       " ('diamonds', '8'),\n",
       " ('diamonds', '9'),\n",
       " ('diamonds', '10'),\n",
       " ('diamonds', 'jack'),\n",
       " ('diamonds', 'queen'),\n",
       " ('diamonds', 'king'),\n",
       " ('diamonds', 'ace')]"
      ]
     },
     "execution_count": 4,
     "metadata": {},
     "output_type": "execute_result"
    }
   ],
   "source": [
    "# using LIST COMPREHENSION\n",
    "[(s,v) for s in suits for v in vals]"
   ]
  },
  {
   "cell_type": "markdown",
   "metadata": {},
   "source": [
    "### Q2 - Write a normal function without using lambda, zip, and map function to create 52 cards in a deck - 50 pts"
   ]
  },
  {
   "cell_type": "code",
   "execution_count": 5,
   "metadata": {
    "collapsed": true
   },
   "outputs": [],
   "source": [
    "def deck_cards(suits, vals):\n",
    "    deck = []\n",
    "    for s in suits:\n",
    "        for v in vals:\n",
    "            deck.append((s,v))\n",
    "    return deck"
   ]
  },
  {
   "cell_type": "code",
   "execution_count": 6,
   "metadata": {},
   "outputs": [
    {
     "data": {
      "text/plain": [
       "[('spades', '2'),\n",
       " ('spades', '3'),\n",
       " ('spades', '4'),\n",
       " ('spades', '5'),\n",
       " ('spades', '6'),\n",
       " ('spades', '7'),\n",
       " ('spades', '8'),\n",
       " ('spades', '9'),\n",
       " ('spades', '10'),\n",
       " ('spades', 'jack'),\n",
       " ('spades', 'queen'),\n",
       " ('spades', 'king'),\n",
       " ('spades', 'ace'),\n",
       " ('clubs', '2'),\n",
       " ('clubs', '3'),\n",
       " ('clubs', '4'),\n",
       " ('clubs', '5'),\n",
       " ('clubs', '6'),\n",
       " ('clubs', '7'),\n",
       " ('clubs', '8'),\n",
       " ('clubs', '9'),\n",
       " ('clubs', '10'),\n",
       " ('clubs', 'jack'),\n",
       " ('clubs', 'queen'),\n",
       " ('clubs', 'king'),\n",
       " ('clubs', 'ace'),\n",
       " ('hearts', '2'),\n",
       " ('hearts', '3'),\n",
       " ('hearts', '4'),\n",
       " ('hearts', '5'),\n",
       " ('hearts', '6'),\n",
       " ('hearts', '7'),\n",
       " ('hearts', '8'),\n",
       " ('hearts', '9'),\n",
       " ('hearts', '10'),\n",
       " ('hearts', 'jack'),\n",
       " ('hearts', 'queen'),\n",
       " ('hearts', 'king'),\n",
       " ('hearts', 'ace'),\n",
       " ('diamonds', '2'),\n",
       " ('diamonds', '3'),\n",
       " ('diamonds', '4'),\n",
       " ('diamonds', '5'),\n",
       " ('diamonds', '6'),\n",
       " ('diamonds', '7'),\n",
       " ('diamonds', '8'),\n",
       " ('diamonds', '9'),\n",
       " ('diamonds', '10'),\n",
       " ('diamonds', 'jack'),\n",
       " ('diamonds', 'queen'),\n",
       " ('diamonds', 'king'),\n",
       " ('diamonds', 'ace')]"
      ]
     },
     "execution_count": 6,
     "metadata": {},
     "output_type": "execute_result"
    }
   ],
   "source": [
    "deck = deck_cards(suits, vals)\n",
    "deck"
   ]
  },
  {
   "cell_type": "markdown",
   "metadata": {},
   "source": [
    "### Q3 - Write a function that, when given 2 sets of 3 or 4 or 5 cards (1 game can only have 3 cards with each player or 4 cards or 5 cards per player) (1 deck of cards only), (2 players only), can identify who won the game of poker (Links to an external site.)! - 100 pts"
   ]
  },
  {
   "cell_type": "code",
   "execution_count": 30,
   "metadata": {
    "collapsed": true
   },
   "outputs": [],
   "source": [
    "import random\n",
    "import collections\n",
    "\n",
    "def draw_two_hands(deck, cards_in_hand):\n",
    "    \n",
    "    # random sample cards for two players based on hand_size\n",
    "    both_hands = random.sample(deck, cards_in_hand*2)\n",
    "    \n",
    "    # return the cards for the two hands\n",
    "    return both_hands"
   ]
  },
  {
   "cell_type": "code",
   "execution_count": 31,
   "metadata": {
    "collapsed": true
   },
   "outputs": [],
   "source": [
    "def modify_hand(hand):\n",
    "    modified_hand = []\n",
    "    for x,y in hand:\n",
    "        if y == 'jack':\n",
    "            y = 11\n",
    "        elif y == 'queen':\n",
    "            y = 12\n",
    "        elif y == 'king':\n",
    "            y = 13\n",
    "        elif y == 'ace':\n",
    "            y = 14\n",
    "        else:\n",
    "            y = int(y)\n",
    "        modified_hand.append((x,y))\n",
    "    \n",
    "    # modified hand has all numbers instead of jack/queen/king/ace\n",
    "    return modified_hand"
   ]
  },
  {
   "cell_type": "code",
   "execution_count": 40,
   "metadata": {
    "collapsed": true
   },
   "outputs": [],
   "source": [
    "def find_hand_type(modified_hand, val_int, cards_in_hand):\n",
    "    \n",
    "    # sorted hand to manipulate values in hand\n",
    "    sorted_modified_hand = sorted([y for x,y in modified_hand])\n",
    "    \n",
    "    # do we have same suit in all cards\n",
    "    if len(set([x for x,y in modified_hand])) == 1:\n",
    "        \n",
    "        # if its a royal-flush, the sum should be 14+13+12+11+10\n",
    "        if sum([int(y) for x,y in modified_hand]) == sum(val_int[-cards_in_hand:]):\n",
    "            return \"royal_flush\"        \n",
    "        # if its a straight-flush, the sum of difference between the sorted values should be 4\n",
    "        elif sum([sorted_modified_hand[i+1] - sorted_modified_hand[i] for i in range(len(sorted_modified_hand)-1)]) == (len(sorted_modified_hand)-1):\n",
    "            return \"straight_flush\"\n",
    "        else:\n",
    "            return \"flush\"\n",
    "    \n",
    "    # find the count of occurances of different values\n",
    "    occurrences = collections.Counter([y for x,y in modified_hand])\n",
    "    # how many distinct values exist\n",
    "    unq_values = len(occurrences)\n",
    "    # count of most common values - list of types\n",
    "    most_common_counts = occurrences.most_common(unq_values)\n",
    "    \n",
    "    # first most common count\n",
    "    first_most_common = most_common_counts[0][1]    \n",
    "    # second most common count if it exists\n",
    "    if unq_values > 1:\n",
    "        second_most_common = most_common_counts[1][1]\n",
    "    \n",
    "    if cards_in_hand == 5 and first_most_common == 3 and second_most_common == 2:\n",
    "        return \"full_house\"\n",
    "    \n",
    "    # check for \"4 of a kind\"\n",
    "    if cards_in_hand in [4,5] and first_most_common == 4:\n",
    "        return \"four_of_a_kind\"\n",
    "    \n",
    "    # check for straight, i.e., unq suits are more than 1\n",
    "    if ( len(set([x for x,y in modified_hand])) > 1 ) and ( sum([sorted_modified_hand[i+1] - sorted_modified_hand[i] for i in range(len(sorted_modified_hand)-1)]) == (len(sorted_modified_hand)-1) ):\n",
    "        return \"straight\"\n",
    "    \n",
    "    \n",
    "    # check for \"3 of a kind\"\n",
    "    if first_most_common == 3:\n",
    "        return \"three_of_a_kind\"\n",
    "    \n",
    "    # check for 2 pairs\n",
    "    if cards_in_hand in [4,5] and first_most_common == 2 and second_most_common == 2:\n",
    "        return \"two_pair\"\n",
    "    \n",
    "    # check for 1 pair\n",
    "    if first_most_common == 2:\n",
    "        return \"one_pair\"\n",
    "    else:\n",
    "        return \"high_card\""
   ]
  },
  {
   "cell_type": "code",
   "execution_count": 48,
   "metadata": {
    "collapsed": true
   },
   "outputs": [],
   "source": [
    "def play_poker(first_hand, second_hand):\n",
    "    \n",
    "    vals = [ '2' , '3' , '4' , '5' , '6' , '7' , '8' , '9' , '10' , 'jack' , 'queen' , 'king' , 'ace' ]\n",
    "    suits = [ 'spades' , 'clubs' , 'hearts' , 'diamonds' ]\n",
    "\n",
    "    val_int = [2, 3, 4, 5, 6, 7, 8, 9, 10, 11, 12, 13, 14]\n",
    "    hand_type = {\"royal_flush\":10, \"straight_flush\":9, \"four_of_a_kind\":8, \"full_house\":7, \"flush\":6, \"straight\":5, \"three_of_a_kind\":4, \"two_pair\":3, \"one_pair\":2, \"high_card\":1}\n",
    "    \n",
    "    # find the number of cards in each hand\n",
    "    cards_in_hand = len(first_hand)\n",
    "\n",
    "    # Validations\n",
    "\n",
    "    # cards_in_hand should be between 3 and 5\n",
    "    if not (3 <= cards_in_hand <= 5):\n",
    "        raise ValueError(\"number of cards in one hand should be between 3 and 5\")\n",
    "\n",
    "    # Values of suits should be among the allowed values\n",
    "    for suit, val in first_hand:\n",
    "        if suit not in [ 'spades' , 'clubs' , 'hearts' , 'diamonds' ]:\n",
    "            raise ValueError(\"suit should be one of these: spades , clubs , hearts , diamonds\")\n",
    "    for suit, val in second_hand:\n",
    "        if suit not in [ 'spades' , 'clubs' , 'hearts' , 'diamonds' ]:\n",
    "            raise ValueError(\"suit should be one of these: spades , clubs , hearts , diamonds\")\n",
    "\n",
    "    # check if vals are among the allowed values\n",
    "    for suit, val in first_hand:\n",
    "        if val not in [ '2' , '3' , '4' , '5' , '6' , '7' , '8' , '9' , '10' , 'jack' , 'queen' , 'king' , 'ace' ]:\n",
    "            raise ValueError(\"val should be one of the value defined in 'vals' list above\")\n",
    "    for suit, val in second_hand:\n",
    "        if val not in [ '2' , '3' , '4' , '5' , '6' , '7' , '8' , '9' , '10' , 'jack' , 'queen' , 'king' , 'ace' ]:\n",
    "            raise ValueError(\"val should be one of the value defined in 'vals' list above\")\n",
    "\n",
    "\n",
    "\n",
    "\n",
    "    # get the modified hands for the input hands\n",
    "    modified_hand_1 = modify_hand(first_hand)\n",
    "    modified_hand_2 = modify_hand(second_hand)\n",
    "\n",
    "    # find the type of each hand\n",
    "    type_1 = find_hand_type(modified_hand_1, val_int, cards_in_hand)\n",
    "    type_2 = find_hand_type(modified_hand_2, val_int, cards_in_hand)\n",
    "\n",
    "    # find the winner hand\n",
    "    winner_hand = find_winner(hand_type, modified_hand_1, type_1, modified_hand_2, type_2)\n",
    "\n",
    "    # return the original winner hand\n",
    "    return [type_1, first_hand] if winner_hand == modified_hand_1 else [type_2, second_hand]"
   ]
  },
  {
   "cell_type": "markdown",
   "metadata": {},
   "source": [
    "# Testing Flow"
   ]
  },
  {
   "cell_type": "markdown",
   "metadata": {},
   "source": [
    "### 1. Set up for the test"
   ]
  },
  {
   "cell_type": "code",
   "execution_count": 42,
   "metadata": {
    "collapsed": true
   },
   "outputs": [],
   "source": [
    "\n",
    "suits = [ 'spades' , 'clubs' , 'hearts' , 'diamonds' ]\n",
    "vals =  [ '2' , '3' , '4' , '5' , '6' , '7' , '8' , '9' , '10' , 'jack' , 'queen' , 'king' , 'ace' ]\n",
    "val_int = [2, 3, 4, 5, 6, 7, 8, 9, 10, 11, 12, 13, 14]\n",
    "hand_type = {\"royal_flush\":10, \"straight_flush\":9, \"four_of_a_kind\":8, \"full_house\":7, \"flush\":6, \"straight\":5, \"three_of_a_kind\":4, \"two_pair\":3, \"one_pair\":2, \"high_card\":1}\n",
    "    \n",
    "# create the deck of cards\n",
    "deck = [(s,v) for s in suits for v in vals]\n"
   ]
  },
  {
   "cell_type": "markdown",
   "metadata": {},
   "source": [
    "### 2. Drawing & printing two hands"
   ]
  },
  {
   "cell_type": "code",
   "execution_count": 43,
   "metadata": {
    "collapsed": true
   },
   "outputs": [],
   "source": [
    "cards_in_hand = 5\n",
    "both_hands = draw_two_hands(deck, cards_in_hand)"
   ]
  },
  {
   "cell_type": "code",
   "execution_count": 44,
   "metadata": {},
   "outputs": [
    {
     "name": "stdout",
     "output_type": "stream",
     "text": [
      "[('clubs', '9'), ('spades', '4'), ('diamonds', '9'), ('diamonds', '2'), ('hearts', '10')]\n",
      "[('spades', '6'), ('spades', '9'), ('hearts', '3'), ('diamonds', '4'), ('spades', 'ace')]\n"
     ]
    }
   ],
   "source": [
    "first_hand = both_hands[:cards_in_hand]\n",
    "second_hand = both_hands[cards_in_hand:]\n",
    "print(first_hand)\n",
    "print(second_hand)"
   ]
  },
  {
   "cell_type": "markdown",
   "metadata": {},
   "source": [
    "### 3. Modifying the hands to convert jack / queen / king / ace to 11/12/13/14"
   ]
  },
  {
   "cell_type": "code",
   "execution_count": 45,
   "metadata": {
    "collapsed": true
   },
   "outputs": [],
   "source": [
    "first_hand = [('spades', 'ace'), ('spades', 'king'), ('spades', '10'), ('spades', 'jack'), ('spades', 'queen')]\n",
    "second_hand = [('hearts', '4'), ('spades', '7'), ('spades', '8'), ('clubs', '7'), ('clubs', '2')]"
   ]
  },
  {
   "cell_type": "code",
   "execution_count": 46,
   "metadata": {},
   "outputs": [
    {
     "name": "stdout",
     "output_type": "stream",
     "text": [
      "[('spades', 14), ('spades', 13), ('spades', 10), ('spades', 11), ('spades', 12)]\n",
      "[('hearts', 4), ('spades', 7), ('spades', 8), ('clubs', 7), ('clubs', 2)]\n"
     ]
    }
   ],
   "source": [
    "modified_hand_1 = modify_hand(first_hand)\n",
    "modified_hand_2 = modify_hand(second_hand)\n",
    "print(modified_hand_1)\n",
    "print(modified_hand_2)"
   ]
  },
  {
   "cell_type": "markdown",
   "metadata": {},
   "source": [
    "### 4. Find the type of hand of each type"
   ]
  },
  {
   "cell_type": "code",
   "execution_count": 47,
   "metadata": {},
   "outputs": [
    {
     "name": "stdout",
     "output_type": "stream",
     "text": [
      "royal_flush\n",
      "one_pair\n"
     ]
    }
   ],
   "source": [
    "type_1 = find_hand_type(modified_hand_1, val_int, 5)\n",
    "type_2 = find_hand_type(modified_hand_2, val_int, 5)\n",
    "print(type_1)\n",
    "print(type_2)"
   ]
  },
  {
   "cell_type": "markdown",
   "metadata": {},
   "source": [
    "### 5. Find Winner hand (modified_hand)"
   ]
  },
  {
   "cell_type": "code",
   "execution_count": 21,
   "metadata": {},
   "outputs": [
    {
     "name": "stdout",
     "output_type": "stream",
     "text": [
      "[('spades', 14), ('hearts', 13), ('diamonds', 10), ('diamonds', 7), ('diamonds', 14)]\n"
     ]
    }
   ],
   "source": [
    "winner_hand = find_winner(hand_type, modified_hand_1, type_1, modified_hand_2, type_2)\n",
    "print(winner_hand)"
   ]
  },
  {
   "cell_type": "markdown",
   "metadata": {},
   "source": [
    "### 6. Return the winner-hand with jack/queen/etc terminology"
   ]
  },
  {
   "cell_type": "code",
   "execution_count": 22,
   "metadata": {},
   "outputs": [
    {
     "name": "stdout",
     "output_type": "stream",
     "text": [
      "[('spades', 'ace'), ('hearts', 'king'), ('diamonds', '10'), ('diamonds', '7'), ('diamonds', 'ace')]\n"
     ]
    }
   ],
   "source": [
    "winner_hand = first_hand if winner_hand == modified_hand_1 else second_hand\n",
    "print(winner_hand)"
   ]
  },
  {
   "cell_type": "markdown",
   "metadata": {},
   "source": [
    "# Convert the test-flow into a wrapper function that will be exposed outside"
   ]
  },
  {
   "cell_type": "code",
   "execution_count": 23,
   "metadata": {
    "collapsed": true
   },
   "outputs": [],
   "source": [
    "def play_poker(first_hand, second_hand):\n",
    "    \n",
    "    val_int = [2, 3, 4, 5, 6, 7, 8, 9, 10, 11, 12, 13, 14]\n",
    "    hand_type = {\"royal_flush\":10, \"straight_flush\":9, \"four_of_a_kind\":8, \"full_house\":7, \"flush\":6, \"straight\":5, \"three_of_a_kind\":4, \"two_pair\":3, \"one_pair\":2, \"high_card\":1}\n",
    "    \n",
    "    # find the number of cards in each hand\n",
    "    cards_in_hand = len(first_hand)\n",
    "    \n",
    "    # get the modified hands for the input hands\n",
    "    modified_hand_1 = modify_hand(first_hand)\n",
    "    modified_hand_2 = modify_hand(second_hand)\n",
    "    \n",
    "    # find the type of each hand\n",
    "    type_1 = find_hand_type(modified_hand_1, val_int, cards_in_hand)\n",
    "    type_2 = find_hand_type(modified_hand_2, val_int, cards_in_hand)\n",
    "    \n",
    "    # find the winner hand\n",
    "    winner_hand = find_winner(hand_type, modified_hand_1, type_1, modified_hand_2, type_2)\n",
    "    \n",
    "    # return the original winner hand\n",
    "    return [type_1, first_hand] if winner_hand == modified_hand_1 else [type_2, second_hand]\n",
    "    "
   ]
  },
  {
   "cell_type": "markdown",
   "metadata": {},
   "source": [
    "### Testing by calling the wrapper function directly"
   ]
  },
  {
   "cell_type": "code",
   "execution_count": 51,
   "metadata": {},
   "outputs": [
    {
     "name": "stdout",
     "output_type": "stream",
     "text": [
      "Winner's hand-type is: ONE_PAIR\n",
      "[('spades', 'ace'), ('hearts', 'king'), ('diamonds', '10'), ('diamonds', '7'), ('diamonds', 'ace')]\n"
     ]
    }
   ],
   "source": [
    "first_hand = [('spades', 'ace'), ('hearts', 'king'), ('diamonds', '10'), ('diamonds', '7'), ('diamonds', 'ace')]\n",
    "second_hand = [('hearts', '4'), ('spades', '7'), ('spades', '8'), ('clubs', '7'), ('clubs', '2')]\n",
    "winner_hand = play_poker(first_hand, second_hand)\n",
    "print(\"Winner's hand-type is: \" + winner_hand[0].upper())\n",
    "print(winner_hand[1])\n"
   ]
  },
  {
   "cell_type": "code",
   "execution_count": null,
   "metadata": {
    "collapsed": true
   },
   "outputs": [],
   "source": []
  }
 ],
 "metadata": {
  "kernelspec": {
   "display_name": "Python 3",
   "language": "python",
   "name": "python3"
  },
  "language_info": {
   "codemirror_mode": {
    "name": "ipython",
    "version": 3
   },
   "file_extension": ".py",
   "mimetype": "text/x-python",
   "name": "python",
   "nbconvert_exporter": "python",
   "pygments_lexer": "ipython3",
   "version": "3.6.7"
  }
 },
 "nbformat": 4,
 "nbformat_minor": 2
}
